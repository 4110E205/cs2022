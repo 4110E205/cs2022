{
  "nbformat": 4,
  "nbformat_minor": 0,
  "metadata": {
    "colab": {
      "provenance": [],
      "collapsed_sections": []
    },
    "kernelspec": {
      "name": "python3",
      "display_name": "Python 3"
    },
    "language_info": {
      "name": "python"
    }
  },
  "cells": [
    {
      "cell_type": "markdown",
      "source": [
        "1019 4110E205 Shane Ashly G. Birad"
      ],
      "metadata": {
        "id": "U5u_UDMHtqAu"
      }
    },
    {
      "cell_type": "markdown",
      "source": [
        "Python Conditions and If statements"
      ],
      "metadata": {
        "id": "q01pxq0Lo10e"
      }
    },
    {
      "cell_type": "markdown",
      "source": [
        "Exercise 1: Print \"Waves of Memories\" if a is greater than b."
      ],
      "metadata": {
        "id": "7_p2-3C0ty1m"
      }
    },
    {
      "cell_type": "code",
      "source": [
        "a = 80\n",
        "b = 130\n",
        "if  a > b:\n",
        "  print(\"Hello Philippines\") \n"
      ],
      "metadata": {
        "id": "ICE321JIHJfi"
      },
      "execution_count": 1,
      "outputs": []
    },
    {
      "cell_type": "markdown",
      "source": [
        "Exercise 2: Print \"Waves of Memories\" if a is not equal to b."
      ],
      "metadata": {
        "id": "hCKpWS5VwxoO"
      }
    },
    {
      "cell_type": "code",
      "source": [
        "a = 80\n",
        "b = 130\n",
        "if a != b:\n",
        "  print(\"Waves of Memories\")"
      ],
      "metadata": {
        "colab": {
          "base_uri": "https://localhost:8080/"
        },
        "id": "_K57Zvc1qGen",
        "outputId": "8fdb9886-2876-487d-8865-4214a0c05bae"
      },
      "execution_count": null,
      "outputs": [
        {
          "output_type": "stream",
          "name": "stdout",
          "text": [
            "Waves of Memories \n"
          ]
        }
      ]
    },
    {
      "cell_type": "markdown",
      "source": [
        "Exercise 3: Print \"Yes\" if a is equal to b, otherwise print \"No\"."
      ],
      "metadata": {
        "id": "c4HgCmY0qCzI"
      }
    },
    {
      "cell_type": "code",
      "source": [
        "a = 80\n",
        "b = 130\n",
        "if a == b:\n",
        "  print(\"Yes\")\n",
        "else:\n",
        "  print(\"No\")\n"
      ],
      "metadata": {
        "colab": {
          "base_uri": "https://localhost:8080/"
        },
        "id": "G6wTNFJfxg01",
        "outputId": "2eb4b3de-46c0-4ce0-af31-ed482cf70175"
      },
      "execution_count": null,
      "outputs": [
        {
          "output_type": "stream",
          "name": "stdout",
          "text": [
            "No\n"
          ]
        }
      ]
    },
    {
      "cell_type": "markdown",
      "source": [
        "Exercise 4: Print \"1\" if a is equal to b, print \"2\" if a is greater than b, otherwise print \"3\"."
      ],
      "metadata": {
        "id": "ix68vtqlsakj"
      }
    },
    {
      "cell_type": "code",
      "source": [
        "a = 50\n",
        "b = 10\n",
        "if a == b:\n",
        " print(\"1\")\n",
        "elif a > b:\n",
        " print(\"2\")\n",
        "else:\n",
        " print(\"3\")"
      ],
      "metadata": {
        "colab": {
          "base_uri": "https://localhost:8080/"
        },
        "id": "WzTca6uIsxOg",
        "outputId": "5d6c0f1a-1833-442f-ae43-561ce448913c"
      },
      "execution_count": null,
      "outputs": [
        {
          "output_type": "stream",
          "name": "stdout",
          "text": [
            "2\n"
          ]
        }
      ]
    },
    {
      "cell_type": "markdown",
      "source": [
        "Exercise 5: Print \"Hello\" if a is equal to b, and c is equal to d."
      ],
      "metadata": {
        "id": "unWo8kvD1xJS"
      }
    },
    {
      "cell_type": "code",
      "source": [
        "if a == b and c == d:\n",
        "  print(\"Hello\")"
      ],
      "metadata": {
        "id": "WcI3gFJn4RUx"
      },
      "execution_count": null,
      "outputs": []
    },
    {
      "cell_type": "markdown",
      "source": [
        "Exercise 6: Print \"Hello\" if a is equal to b, or if c is equal to d."
      ],
      "metadata": {
        "id": "cOgfidJ54vZz"
      }
    },
    {
      "cell_type": "code",
      "source": [
        " a = 20\n",
        " b = 30\n",
        " c = 40\n",
        " d = 50\n",
        " if a == b or c == d:\n",
        "  print(\"Hello\")"
      ],
      "metadata": {
        "id": "89z-YWNPMGNk"
      },
      "execution_count": 5,
      "outputs": []
    },
    {
      "cell_type": "markdown",
      "source": [
        "Exercise 7: This example misses indentations to be correct. Insert the missing indentation to make the code correct:"
      ],
      "metadata": {
        "id": "kbV0GNKW5gby"
      }
    },
    {
      "cell_type": "code",
      "source": [
        "if 5 > 2:\n",
        "  print(\"Five is greater than two!\")"
      ],
      "metadata": {
        "colab": {
          "base_uri": "https://localhost:8080/"
        },
        "id": "jQhkE41D5nya",
        "outputId": "6a3f19e6-9c3c-4f49-811c-68b40a58b192"
      },
      "execution_count": null,
      "outputs": [
        {
          "output_type": "stream",
          "name": "stdout",
          "text": [
            "Five is greater than two!\n"
          ]
        }
      ]
    },
    {
      "cell_type": "markdown",
      "source": [
        "Exercise 8: Use the correct short hand syntax to put the following statement on one line:"
      ],
      "metadata": {
        "id": "3PzYK3b95xFr"
      }
    },
    {
      "cell_type": "code",
      "source": [
        "if 5 > 2: print(\"Five is greater than two!\")"
      ],
      "metadata": {
        "colab": {
          "base_uri": "https://localhost:8080/"
        },
        "id": "iXHFdkO_52hz",
        "outputId": "8375759d-423a-4f85-f59e-96e50dee3954"
      },
      "execution_count": null,
      "outputs": [
        {
          "output_type": "stream",
          "name": "stdout",
          "text": [
            "Five is greater than two!\n"
          ]
        }
      ]
    },
    {
      "cell_type": "markdown",
      "source": [
        "Exercise 9: Use the correct short hand syntax to write the following conditional expression in one line:"
      ],
      "metadata": {
        "id": "zOWl9UU46oXB"
      }
    },
    {
      "cell_type": "code",
      "source": [
        "print(\"Yes\") if 5 > 2 else print(\"No\")"
      ],
      "metadata": {
        "colab": {
          "base_uri": "https://localhost:8080/"
        },
        "id": "V6iuz6li6tkn",
        "outputId": "a9edd7e7-249c-4164-ecc6-537ce36599e2"
      },
      "execution_count": null,
      "outputs": [
        {
          "output_type": "stream",
          "name": "stdout",
          "text": [
            "Yes\n"
          ]
        }
      ]
    }
  ]
}