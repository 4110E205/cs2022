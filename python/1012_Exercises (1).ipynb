{
  "nbformat": 4,
  "nbformat_minor": 0,
  "metadata": {
    "colab": {
      "provenance": [],
      "collapsed_sections": []
    },
    "kernelspec": {
      "name": "python3",
      "display_name": "Python 3"
    },
    "language_info": {
      "name": "python"
    }
  },
  "cells": [
    {
      "cell_type": "markdown",
      "source": [
        "1012 EXERCISE"
      ],
      "metadata": {
        "id": "dRZxx-LpTItB"
      }
    },
    {
      "cell_type": "markdown",
      "source": [
        "Exercise 1: Print the second item in the fruits list."
      ],
      "metadata": {
        "id": "8OKLUwquTUGh"
      }
    },
    {
      "cell_type": "code",
      "source": [
        "fruits = [\"apple\", \"banana\", \"cherry\"]\n",
        "print(        )"
      ],
      "metadata": {
        "id": "cYBqaPGUFXTS"
      },
      "execution_count": null,
      "outputs": []
    },
    {
      "cell_type": "markdown",
      "source": [
        "Answer:"
      ],
      "metadata": {
        "id": "W_4Hwd9SFZzi"
      }
    },
    {
      "cell_type": "code",
      "source": [
        "fruits = [\"apple\", \"banana\", \"cherry\"]\n",
        "print(fruits[1])"
      ],
      "metadata": {
        "colab": {
          "base_uri": "https://localhost:8080/"
        },
        "id": "7OTHRip48mu0",
        "outputId": "0bd65ba2-ce6d-4e7d-c29a-5551e37ee374"
      },
      "execution_count": 2,
      "outputs": [
        {
          "output_type": "stream",
          "name": "stdout",
          "text": [
            "banana\n"
          ]
        }
      ]
    },
    {
      "cell_type": "markdown",
      "source": [
        "Exercise 2: Change the value from \"apple\" to \"kiwi\", in the fruits list."
      ],
      "metadata": {
        "id": "-0jennsD87Ez"
      }
    },
    {
      "cell_type": "code",
      "source": [
        "fruits = [\"apple\", \"banana\", \"cherry\"]\n",
        "       =    "
      ],
      "metadata": {
        "id": "E-CyQSi2FwV0"
      },
      "execution_count": null,
      "outputs": []
    },
    {
      "cell_type": "markdown",
      "source": [
        "Answer:"
      ],
      "metadata": {
        "id": "ZOkHS3LxF8S-"
      }
    },
    {
      "cell_type": "code",
      "source": [
        "fruits = [\"apple\", \"banana\", \"cherry\"]\n",
        "fruits[0] = \"kiwi\"\n",
        "print(fruits)"
      ],
      "metadata": {
        "colab": {
          "base_uri": "https://localhost:8080/"
        },
        "id": "vPGBFnP69O7b",
        "outputId": "f34a0f19-aa36-4f6e-aa1c-1672e1cacac1"
      },
      "execution_count": 3,
      "outputs": [
        {
          "output_type": "stream",
          "name": "stdout",
          "text": [
            "['kiwi', 'banana', 'cherry']\n"
          ]
        }
      ]
    },
    {
      "cell_type": "markdown",
      "source": [
        "Exercise 3: Use the append method to add \"orange\" to the fruits list."
      ],
      "metadata": {
        "id": "6ywq-7K79Syj"
      }
    },
    {
      "cell_type": "code",
      "source": [
        "fruits = [\"apple\", \"banana\", \"cherry\"]\n",
        "              "
      ],
      "metadata": {
        "id": "lONF0MwLGFU2"
      },
      "execution_count": null,
      "outputs": []
    },
    {
      "cell_type": "markdown",
      "source": [
        "Answer:"
      ],
      "metadata": {
        "id": "9eGABkSIGJme"
      }
    },
    {
      "cell_type": "code",
      "source": [
        "fruits = [\"apple\", \"banana\", \"cherry\"]\n",
        "fruits.append(\"orange\")\n",
        "print(fruits)"
      ],
      "metadata": {
        "colab": {
          "base_uri": "https://localhost:8080/"
        },
        "id": "du6UKU7k9pWC",
        "outputId": "6d746e82-c93d-40cd-b622-85af26db2cf8"
      },
      "execution_count": 4,
      "outputs": [
        {
          "output_type": "stream",
          "name": "stdout",
          "text": [
            "['apple', 'banana', 'cherry', 'orange']\n"
          ]
        }
      ]
    },
    {
      "cell_type": "markdown",
      "source": [
        "Exercise 4: Use the insert method to add \"lemon\" as the second item in the fruits list."
      ],
      "metadata": {
        "id": "PT4fX_HW9rzc"
      }
    },
    {
      "cell_type": "code",
      "source": [
        "fruits = [\"apple\", \"banana\", \"cherry\"]\n",
        "            \"lemon\")"
      ],
      "metadata": {
        "id": "351jTc3u90Oa"
      },
      "execution_count": null,
      "outputs": []
    },
    {
      "cell_type": "markdown",
      "source": [
        "Answer:"
      ],
      "metadata": {
        "id": "R6qAy1U596ek"
      }
    },
    {
      "cell_type": "code",
      "source": [
        "fruits = [\"apple\", \"banana\", \"cherry\"]\n",
        "fruits.insert(1, \"lemon\")\n",
        "print(fruits)"
      ],
      "metadata": {
        "colab": {
          "base_uri": "https://localhost:8080/"
        },
        "id": "l1OFCI2l9_6E",
        "outputId": "baa71167-2fda-4d03-a781-365737540847"
      },
      "execution_count": 5,
      "outputs": [
        {
          "output_type": "stream",
          "name": "stdout",
          "text": [
            "['apple', 'lemon', 'banana', 'cherry']\n"
          ]
        }
      ]
    },
    {
      "cell_type": "markdown",
      "source": [
        "Exercise 5: Use the remove method to remove \"banana\" from the fruits list."
      ],
      "metadata": {
        "id": "rEHnCn3a98Kk"
      }
    },
    {
      "cell_type": "code",
      "source": [
        "fruits = [\"apple\", \"banana\", \"cherry\"]\n",
        "                  "
      ],
      "metadata": {
        "id": "jI4yeYSi-G6k"
      },
      "execution_count": null,
      "outputs": []
    },
    {
      "cell_type": "markdown",
      "source": [
        "Answer:"
      ],
      "metadata": {
        "id": "5J4H62Rg-M8j"
      }
    },
    {
      "cell_type": "code",
      "source": [
        "fruits = [\"apple\", \"banana\", \"cherry\"]\n",
        "fruits.remove(\"banana\")\n",
        "print(fruits)"
      ],
      "metadata": {
        "colab": {
          "base_uri": "https://localhost:8080/"
        },
        "id": "8FdkkDR_-SXs",
        "outputId": "32639ef8-02e5-40d9-aad5-945fe9460775"
      },
      "execution_count": 6,
      "outputs": [
        {
          "output_type": "stream",
          "name": "stdout",
          "text": [
            "['apple', 'cherry']\n"
          ]
        }
      ]
    },
    {
      "cell_type": "markdown",
      "source": [
        "Exercise 6: Use negative indexing to print the last item in the list."
      ],
      "metadata": {
        "id": "XnOs3din-NH8"
      }
    },
    {
      "cell_type": "code",
      "source": [
        "fruits = [\"apple\", \"banana\", \"cherry\"]\n",
        "print(      )"
      ],
      "metadata": {
        "id": "JjAB0FiH-a68"
      },
      "execution_count": null,
      "outputs": []
    },
    {
      "cell_type": "markdown",
      "source": [
        "Answer:"
      ],
      "metadata": {
        "id": "rGc0SsOV-ejT"
      }
    },
    {
      "cell_type": "code",
      "source": [
        "fruits = [\"apple\", \"banana\", \"cherry\"]\n",
        "print(fruits[-1])"
      ],
      "metadata": {
        "colab": {
          "base_uri": "https://localhost:8080/"
        },
        "id": "qsZK-1D3-hV0",
        "outputId": "e5c7b6b8-2b47-45d1-c0a0-318d98a4ecde"
      },
      "execution_count": 7,
      "outputs": [
        {
          "output_type": "stream",
          "name": "stdout",
          "text": [
            "cherry\n"
          ]
        }
      ]
    },
    {
      "cell_type": "markdown",
      "source": [
        "Exercise 7: Use a range of indexes to print the third, fourth, and fifth item in the list."
      ],
      "metadata": {
        "id": "nid09ivs-jyU"
      }
    },
    {
      "cell_type": "code",
      "source": [
        "fruits = [\"apple\", \"banana\", \"cherry\", \"orange\", \"kiwi\", \"melon\", \"mango\"]\n",
        "print(fruits[  ])"
      ],
      "metadata": {
        "id": "bFEkmGJY-os7"
      },
      "execution_count": null,
      "outputs": []
    },
    {
      "cell_type": "markdown",
      "source": [
        "Answer:"
      ],
      "metadata": {
        "id": "qwSKALP6-rIj"
      }
    },
    {
      "cell_type": "code",
      "source": [
        "fruits = [\"apple\", \"banana\", \"cherry\", \"orange\", \"kiwi\", \"melon\", \"mango\"]\n",
        "print(fruits[2:5])"
      ],
      "metadata": {
        "colab": {
          "base_uri": "https://localhost:8080/"
        },
        "id": "hOXCaJZo-ti9",
        "outputId": "0a02f748-321d-4583-a6dd-814f51a6defc"
      },
      "execution_count": 8,
      "outputs": [
        {
          "output_type": "stream",
          "name": "stdout",
          "text": [
            "['cherry', 'orange', 'kiwi']\n"
          ]
        }
      ]
    },
    {
      "cell_type": "markdown",
      "source": [
        "Exercise 8: Use the correct syntax to print the number of items in the list."
      ],
      "metadata": {
        "id": "uw3UhKz--yrE"
      }
    },
    {
      "cell_type": "code",
      "source": [
        "fruits = [\"apple\", \"banana\", \"cherry\"]\n",
        "print(      )"
      ],
      "metadata": {
        "id": "CM2ZMn-l-8Jv"
      },
      "execution_count": null,
      "outputs": []
    },
    {
      "cell_type": "markdown",
      "source": [
        "Answer:"
      ],
      "metadata": {
        "id": "pywYeb8R-_jF"
      }
    },
    {
      "cell_type": "code",
      "source": [
        "fruits = [\"apple\", \"banana\", \"cherry\"]\n",
        "print(len(fruits))"
      ],
      "metadata": {
        "colab": {
          "base_uri": "https://localhost:8080/"
        },
        "id": "dEQ8O86j_GOs",
        "outputId": "bdfd2846-1f95-4d8a-a260-79f7df413ba2"
      },
      "execution_count": 9,
      "outputs": [
        {
          "output_type": "stream",
          "name": "stdout",
          "text": [
            "3\n"
          ]
        }
      ]
    },
    {
      "cell_type": "markdown",
      "source": [
        "Example 2: Remove() method on a list having duplicate elements"
      ],
      "metadata": {
        "id": "pvhwptcK_IfM"
      }
    },
    {
      "cell_type": "code",
      "source": [
        "# flowers list\n",
        "flowers = ['daisy', 'tulips', 'roses', 'sunflower', 'roses']\n",
        "\n",
        "# 'roses' is removed\n",
        "flowers.remove('roses')\n",
        "\n",
        "\n",
        "# Updated flowers list\n",
        "print('Updated flowers list: ', flowers)"
      ],
      "metadata": {
        "colab": {
          "base_uri": "https://localhost:8080/"
        },
        "id": "Tb_OoA4r_N3K",
        "outputId": "9b2133c2-fccb-4707-afab-beaaf3a6a222"
      },
      "execution_count": 25,
      "outputs": [
        {
          "output_type": "stream",
          "name": "stdout",
          "text": [
            "Updated flowers list:  ['daisy', 'tulips', 'sunflower', 'roses']\n"
          ]
        }
      ]
    },
    {
      "cell_type": "markdown",
      "source": [
        "Example 3: Deleting element that doesn't exist"
      ],
      "metadata": {
        "id": "S8uBUpGo_PEE"
      }
    },
    {
      "cell_type": "code",
      "source": [
        "# flowers list\n",
        "flowers = ['tulips', 'lavender', 'roses', 'daisy'] \n",
        "\n",
        "# Deleting 'lavender' element\n",
        "flowers.remove ('lavender')\n",
        "\n",
        "\n",
        "# Updated Flowers List\n",
        "print('Updated flowers list: ', flowers)"
      ],
      "metadata": {
        "colab": {
          "base_uri": "https://localhost:8080/"
        },
        "id": "LfqZyIV4XCLM",
        "outputId": "8e787ee7-91bf-4f12-eadd-d520de3606ea"
      },
      "execution_count": 26,
      "outputs": [
        {
          "output_type": "stream",
          "name": "stdout",
          "text": [
            "Updated flowers list:  ['tulips', 'roses', 'daisy']\n"
          ]
        }
      ]
    }
  ]
}