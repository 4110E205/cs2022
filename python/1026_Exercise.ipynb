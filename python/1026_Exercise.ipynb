{
  "nbformat": 4,
  "nbformat_minor": 0,
  "metadata": {
    "colab": {
      "provenance": []
    },
    "kernelspec": {
      "name": "python3",
      "display_name": "Python 3"
    },
    "language_info": {
      "name": "python"
    }
  },
  "cells": [
    {
      "cell_type": "code",
      "execution_count": 2,
      "metadata": {
        "colab": {
          "base_uri": "https://localhost:8080/"
        },
        "id": "_8d03VlGue8l",
        "outputId": "1aacb4f9-14de-403e-de6f-f078e9c6f7d8"
      },
      "outputs": [
        {
          "output_type": "stream",
          "name": "stdout",
          "text": [
            "Sum from 1 to 50 is 4950\n",
            "Sum from 20 to 100 is 44660\n",
            "Sum from 35 to 150 is 124155\n"
          ]
        }
      ],
      "source": [
        "\n",
        "def sum(i1, i2):\n",
        "    result = 0\n",
        "    for i in range(i1, i2):\n",
        "        result += i\n",
        "    return result\n",
        "\n",
        "def main():\n",
        "    print(\"Sum from 1 to 50 is\", sum(1, 100)) \n",
        "    print(\"Sum from 20 to 100 is\", sum(20, 300))\n",
        "    print(\"Sum from 35 to 150 is\", sum(35, 500))\n",
        "\n",
        "main() # Call the main function"
      ]
    },
    {
      "cell_type": "markdown",
      "source": [
        "f(101)"
      ],
      "metadata": {
        "id": "pd4fOmTVYh8o"
      }
    },
    {
      "cell_type": "code",
      "source": [
        "def f(n):\n",
        "   if n == 1:\n",
        "     return 1\n",
        "   else:\n",
        "     return f(n-1) + n\n",
        "\n",
        "f(101)"
      ],
      "metadata": {
        "colab": {
          "base_uri": "https://localhost:8080/"
        },
        "id": "UNTdTcZvYp4n",
        "outputId": "10a618c7-b7e0-49df-bcae-997f825d3cf7"
      },
      "execution_count": 1,
      "outputs": [
        {
          "output_type": "execute_result",
          "data": {
            "text/plain": [
              "5151"
            ]
          },
          "metadata": {},
          "execution_count": 1
        }
      ]
    }
  ]
}