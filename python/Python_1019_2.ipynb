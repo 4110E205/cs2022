{
  "nbformat": 4,
  "nbformat_minor": 0,
  "metadata": {
    "colab": {
      "provenance": []
    },
    "kernelspec": {
      "name": "python3",
      "display_name": "Python 3"
    },
    "language_info": {
      "name": "python"
    }
  },
  "cells": [
    {
      "cell_type": "markdown",
      "source": [
        "1019 4110E205 "
      ],
      "metadata": {
        "id": "I7iTItHkNgfM"
      }
    },
    {
      "cell_type": "markdown",
      "source": [
        "For Loops"
      ],
      "metadata": {
        "id": "tIZ-KcvzNoZr"
      }
    },
    {
      "cell_type": "markdown",
      "source": [
        "Example Print each fruit in a fruit list:"
      ],
      "metadata": {
        "id": "FmAhnJiaNuEX"
      }
    },
    {
      "cell_type": "code",
      "source": [
        "fruits = [\"mango\", \"strawberries\", \"lemon\", \"peach\"]\n",
        "for x in fruits:\n",
        "  print(x)"
      ],
      "metadata": {
        "colab": {
          "base_uri": "https://localhost:8080/"
        },
        "id": "3vhu8K4NN2q_",
        "outputId": "6aba024c-7b72-40fb-8eae-10c7db45d2e4"
      },
      "execution_count": 1,
      "outputs": [
        {
          "output_type": "stream",
          "name": "stdout",
          "text": [
            "mango\n",
            "strawberries\n",
            "lemon\n",
            "peach\n"
          ]
        }
      ]
    }
  ]
}