0914 4110E233
Python Dictionaries

Dictionary

Dictionaries are used to store data values in key:value pairs.
A dictionary is a collection which is ordered*, changeable and do not allow duplicates.
As of Python version 3.7, dictionaries are ordered. In Python 3.6 and earlier, dictionaries are unordered.

Dictionaries are written with curly brackets, and have keys and values:
print("沈愛希 - 4110e205")
thisdict = {
  "School": "KSU",
  "Country": "Taiwan",
  "year": 2022
}
print(thisdict)
沈愛希 - 4110e205
{'School': 'KSU', 'Country': 'Taiwan', 'year': 2022}

Dictionary Items
Dictionary items are ordered, changeable, and does not allow duplicates.
Dictionary items are presented in key:value pairs, and can be referred to by using the key name.
print("沈愛希 - 4110e205")
thisdict = {
  "School": "KSU",
  "Country": "Taiwan",
  "year": 2022
}
print(thisdict["year"])
沈愛希 - 4110e205
2022

Duplicates Not Allowed

Dictionaries cannot have two items with the same key:
print("沈愛希  - 4110e233")
thisdict = {
  "School": "KSU",
  "Country": "Taiwan",
  "year": 2022,
  "year": 2023
}
print(thisdict)
沈愛希  - 4110e205
{'School': 'KSU', 'Country': 'Taiwan', 'year': 2023}

Dictionary Length

To determine how many items a dictionary has, use the len() function:
print("沈愛希 - 4110e205")
thisdict = {
  "School": "KSU",
  "Country": "Taiwan",
  "year": 2022
}
print(len(thisdict))
沈愛希 - 4110e205
3

Dictionary Items - Data Types

The values in dictionary items can be of any data type:
print("沈愛希 - 4110e205")
thisdict = {
  "string": "shane",
  "int": 1,
  "boolean": True,
  "list": ["shane", 1, True]
}
print(thisdict)
沈愛希 - 4110e205
{'string': 'shane', 'int': 1, 'boolean': True, 'list': ['shane', 1, True]}

type()

From Python's perspective, dictionaries are defined as objects with the data type 'dict':
print("沈愛希  - 4110e205")
thisdict = {
  "School": "KSU",
  "Country": "Taiwan",
  "year": 2022
}
print(type(thisdict))
沈愛希  - 4110e205
<class 'dict'>

Access Dictionary Items

Accessing Items

You can access the items of a dictionary by referring to its key name, inside square brackets:
print("沈愛希 - 4110e205")
thisdict = {
  "School": "KSU",
  "Country": "Taiwan",
  "year": 2022
}
print(thisdict["Country"])
沈愛希 - 4110e205
Taiwan

There is also a method called get() that will give you the same result:
print("沈愛希  - 4110e205")
thisdict = {
  "School": "KSU",
  "Country": "Taiwan",
  "year": 2022
}
print(thisdict.get("Country"))
沈愛希  - 4110e205
Taiwan

Get Keys

The keys() method will return a list of all the keys in the dictionary.
Get Values

The values() method will return a list of all the values in the dictionary.
Get Items

The items() method will return each item in a dictionary, as tuples in a list.
print("沈愛希 - 4110e205")
thisdict = {
  "School": "KSU",
  "Country": "Taiwan",
  "year": 2022
}
#before
print(thisdict.keys()) #get keys
print(thisdict.values()) #get values
print(thisdict.items()) #get items

thisdict["MyName"] = "shane"

#after
print(thisdict.keys())
print(thisdict.values())
print(thisdict.items()) #before change

thisdict["year"] = "2023"

print(thisdict.items()) #after change
沈愛希 - 4110e205
dict_keys(['School', 'Country', 'year'])
dict_values(['KSU', 'Taiwan', 2022])
dict_items([('School', 'KSU'), ('Country', 'Taiwan'), ('year', 2022)])
dict_keys(['School', 'Country', 'year', 'MyName'])
dict_values(['KSU', 'Taiwan', 2022, 'shane'])
dict_items([('School', 'KSU'), ('Country', 'Taiwan'), ('year', 2022), ('MyName', 'shane')])
dict_items([('School', 'KSU'), ('Country', 'Taiwan'), ('year', '2023'), ('MyName', 'shane')])

Check if Key Exists

To determine if a specified key is present in a dictionary use the in keyword:
print("沈愛希 - 4110e205")
thisdict = {
  "School": "KSU",
  "Country": "Taiwan",
  "year": 2022
}
if "Country" in thisdict:
  print("Yes, 'country' is one of the keys in the thisdict dictionary")
沈愛希 - 4110e205
Yes, 'country' is one of the keys in the thisdict dictionary

Change Dictionary Items

Change Values

You can change the value of a specific item by referring to its key name:
print("沈愛希 - 4110e205")
thisdict = {
  "School": "KSU",
  "Country": "Taiwan",
  "year": 2022
}
thisdict["year"] = 2023
print(thisdict)
沈愛希 - 4110e205
{'School': 'KSU', 'Country': 'Taiwan', 'year': 2023}

Update Dictionary

The update() method will update the dictionary with the items from the given argument.
The argument must be a dictionary, or an iterable object with key:value pairs.
print("沈愛希 - 4110e205")
thisdict = {
  "School": "KSU",
  "Country": "Taiwan",
  "year": 2022
}
thisdict.update({"year": 2023})
print(thisdict)
沈愛希 - 4110e205
{'School': 'KSU', 'Country': 'Taiwan', 'year': 2023}

Add Dictionary Items

Adding Items

Adding an item to the dictionary is done by using a new index key and assigning a value to it:
Update Dictionary

The update() method will update the dictionary with the items from a given argument. If the item does not exist, the item will be added.
The argument must be a dictionary, or an iterable object with key:value pairs.
print("沈愛希 - 4110e205")
thisdict = {
  "School": "KSU",
  "Country": "Taiwan",
  "year": 2022
}

thisdict["height"] = 152 #adding an item
thisdict.update({"weight": "46"}) #using update()
thisdict.update({"BMI": "19.9"})
print(thisdict)
沈愛希 - 4110e205
{'School': 'KSU', 'Country': 'Taiwan', 'year': 2022, 'height': 152, 'weight': '46', 'BMI': '19.9'}

Remove Dictionary Items

Removing Items

There are several methods to remove items from a dictionary:
The pop() method removes the item with the specified key name:
print("沈愛希 - 4110e205")
thisdict = {
  "string": "shane",
  "int": 1,
  "boolean": True,
  "list": ["Hello", 2, False]
}

thisdict.pop("string")
print(thisdict)
沈愛希 - 4110e205
{'int': 1, 'boolean': True, 'list': ['Hello', 2, False]}

The popitem() method removes the last inserted item (in versions before 3.7, a random item is removed instead):
print("沈愛希 - 4110e205")
thisdict = {
  "string": "shane",
  "int": 1,
  "boolean": True,
  "list": ["Hello", 2, False]
}

thisdict.popitem()
print(thisdict)
沈愛希 - 4110e205
{'string': 'shane', 'int': 1, 'boolean': True}

The del keyword removes the item with the specified key name:
print("沈愛希 - 4110e205")
thisdict = {
  "string": "shane",
  "int": 1,
  "boolean": True,
  "list": ["Hello", 2, False]
}

del thisdict["int"]
print(thisdict)
沈愛希 - 4110e205
{'string': 'shane', 'boolean': True, 'list': ['Hello', 2, False]}

The del keyword can also delete the dictionary completely:
print("沈愛希 - 4110e205")
thisdict = {
  "string": "shane",
  "int": 1,
  "boolean": True,
  "list": ["Hello", 2, False]
}

del thisdict
print(thisdict)
#the "thisdict" dictionary will be no longer exist.
沈愛希 - 4110e205
---------------------------------------------------------------------------
NameError                                 Traceback (most recent call last)
<ipython-input-20-b6aa2583cdb8> in <module>
      8 
      9 del thisdict
---> 10 print(thisdict)
     11 #the "thisdict" dictionary will be no longer exist.

NameError: name 'thisdict' is not defined

The clear() method empties the dictionary:
print("沈愛希 - 4110e205")
thisdict = {
  "string": "shane",
  "int": 1,
  "boolean": True,
  "list": ["Hello", 2, False]
}

thisdict.clear()
print(thisdict)
沈愛希 - 4110e205
{}

Copy Dictionaries

Copy a Dictionary

You cannot copy a dictionary simply by typing seconddict = firstdict, because: seconddict will only be a reference to firstdict, and changes made in firstdict will automatically also be made in seconddict.
print("沈愛希 - 4110e205")
firstdict = {
  "School": "KSU",
  "Country": "Taiwan",
  "year": 2022
}
print(firstdict)
seconddict = firstdict
print(seconddict)
seconddict.update({"year": 2023})
print(firstdict)
沈愛希 - 4110e205
{'School': 'KSU', 'Country': 'Taiwan', 'year': 2022}
{'School': 'KSU', 'Country': 'Taiwan', 'year': 2022}
{'School': 'KSU', 'Country': 'Taiwan', 'year': 2023}

There are ways to make a copy, one way is to use the built-in Dictionary method copy().
print("沈愛希 - 4110e205")
firstdict = {
  "School": "KSU",
  "Country": "Taiwan",
  "year": 2022
}
print(firstdict)
seconddict = firstdict.copy()
print(seconddict)
seconddict.update({"year": 2023})
print(seconddict)
print(firstdict)
沈愛希 - 4110e205
{'School': 'KSU', 'Country': 'Taiwan', 'year': 2022}
{'School': 'KSU', 'Country': 'Taiwan', 'year': 2022}
{'School': 'KSU', 'Country': 'Taiwan', 'year': 2023}
{'School': 'KSU', 'Country': 'Taiwan', 'year': 2022}

Another way to make a copy is to use the built-in function dict().
print("沈愛希 - 4110e205")
firstdict = {
  "School": "KSU",
  "Country": "Taiwan",
  "year": 2022
}
print(firstdict)
seconddict = dict(firstdict)
print(seconddict)
seconddict.update({"year": 2023})
print(seconddict)
print(firstdict)
沈愛希 - 4110e205
{'School': 'KSU', 'Country': 'Taiwan', 'year': 2022}
{'School': 'KSU', 'Country': 'Taiwan', 'year': 2022}
{'School': 'KSU', 'Country': 'Taiwan', 'year': 2023}
{'School': 'KSU', 'Country': 'Taiwan', 'year': 2022}

Nested Dictionaries

A dictionary can contain dictionaries, this is called nested dictionaries.

Create a Nested Dictionary

A nested dictionary is created the same way a normal dictionary is created. The only difference is that each value is another dictionary.
print("沈愛希 - 4110e205")
D = {'student1': {'name': 'Yanna', 'number': '1'},
     'student2': {'name': 'Hiro', 'number': '2'},
     'student3': {'name': 'Avi', 'number': '3'}}
沈愛希 - 4110e205
