{
  "nbformat": 4,
  "nbformat_minor": 0,
  "metadata": {
    "colab": {
      "provenance": []
    },
    "kernelspec": {
      "name": "python3",
      "display_name": "Python 3"
    },
    "language_info": {
      "name": "python"
    }
  },
  "cells": [
    {
      "cell_type": "markdown",
      "source": [
        "1102 EXERCISE\n"
      ],
      "metadata": {
        "id": "ksSt0cCnzJaf"
      }
    },
    {
      "cell_type": "markdown",
      "source": [
        "Multiple Choice\n"
      ],
      "metadata": {
        "id": "3Sqnm3bJ94de"
      }
    },
    {
      "cell_type": "markdown",
      "source": [
        "4110E205 - 沈愛希"
      ],
      "metadata": {
        "id": "PnXy56iA99dO"
      }
    },
    {
      "cell_type": "markdown",
      "source": [
        "A."
      ],
      "metadata": {
        "id": "jD9IOmwQzsDX"
      }
    },
    {
      "cell_type": "markdown",
      "source": [
        "1.\n",
        "Which following is the correct way to create a dictionary in Python?\n",
        "\n",
        "(A) students = { 'name' => 'alice' ; 'score' =>60 }\n",
        "\n",
        "(B) students = { 'name' = 'alice' ; 'score' =60 }\n",
        "\n",
        "(C) students = { 'name' : 'alice' ; 'score' : 60 }\n",
        "\n",
        "(D) students = { 'name' => 'alice' , 'score' =>60 }\n",
        "\n",
        "(E) students = { 'name' : 'alice' , 'score' : 60 }"
      ],
      "metadata": {
        "id": "Ff8MkMMyz5-d"
      }
    },
    {
      "cell_type": "markdown",
      "source": [
        "Answer: E"
      ],
      "metadata": {
        "id": "z9U7SuHd0AWe"
      }
    },
    {
      "cell_type": "code",
      "source": [
        "student = {\n",
        "  \"name\": \"alice\",\n",
        "  \"score\": 60\n",
        "}\n",
        "print(student)"
      ],
      "metadata": {
        "colab": {
          "base_uri": "https://localhost:8080/"
        },
        "id": "QIfOnVjm2P-l",
        "outputId": "1a98382c-cf67-4000-ed43-8a51aa07ca8d"
      },
      "execution_count": 3,
      "outputs": [
        {
          "output_type": "stream",
          "name": "stdout",
          "text": [
            "{'name': 'alice', 'score': 60}\n"
          ]
        }
      ]
    },
    {
      "cell_type": "markdown",
      "source": [
        "2.\n",
        "What does the following Python program fragment do?\n",
        "   \n",
        "   s=0\n",
        "\n",
        "   for i in range (3 , 10) :\n",
        "       \n",
        "        s+=i\n",
        "\n",
        "   print (s)\n",
        "\n",
        "   (A) Calculate the sum of 1+2+…+10\n",
        "\n",
        "   (B) Calculate the sum of 1+4+7+10\n",
        "\n",
        "   (C) Calculate the sum of 3+4+5+6+…+9\n",
        "\n",
        "   (D) Calculate the sum of 3+4+5+6+…+10\n",
        "   \n",
        "   (E) Calculate the sum of 0+2+4+6+…+10\n"
      ],
      "metadata": {
        "id": "YNwPgcrl1TCx"
      }
    },
    {
      "cell_type": "markdown",
      "source": [
        "Answer: B"
      ],
      "metadata": {
        "id": "lA41hxma2_C1"
      }
    },
    {
      "cell_type": "code",
      "source": [
        "s=0\n",
        "for i in range (3 , 10) :\n",
        "  s+=i\n",
        "print (s)"
      ],
      "metadata": {
        "colab": {
          "base_uri": "https://localhost:8080/"
        },
        "id": "4-crwBxC0iYM",
        "outputId": "8e430807-a1af-4e1a-9eb7-6537e6aaed08"
      },
      "execution_count": 4,
      "outputs": [
        {
          "output_type": "stream",
          "name": "stdout",
          "text": [
            "42\n"
          ]
        }
      ]
    },
    {
      "cell_type": "markdown",
      "source": [
        "3.\n",
        "What is the output of this code in Python?\n",
        "      \n",
        "      list = [ ' a ' ,  ' b ' ,  ' c ' ,  ' d ' ,  ' e ' ]\n",
        "      print (list [ 1 : ])\n",
        "   (A) [ ]\n",
        "\n",
        "   (B) [ 'b' ]\n",
        "\n",
        "   (C) [ 'a' ,  'b' ]\n",
        "   \n",
        "   (D) [ 'b' ,  'c' ,  'd' ,  'e' ]"
      ],
      "metadata": {
        "id": "Y-s88Wrr0-ZQ"
      }
    },
    {
      "cell_type": "markdown",
      "source": [
        "Answer: D"
      ],
      "metadata": {
        "id": "ZDjBmH_g33NA"
      }
    },
    {
      "cell_type": "code",
      "source": [
        "list = [ ' a ' ,  ' b ' ,  ' c ' ,  ' d ' ,  ' e ' ]\n",
        "\n",
        "print (list [ 1 : ])"
      ],
      "metadata": {
        "colab": {
          "base_uri": "https://localhost:8080/"
        },
        "id": "t14cX8FG39g8",
        "outputId": "9db7f94d-e207-42b8-a2d7-90d40993ae06"
      },
      "execution_count": 5,
      "outputs": [
        {
          "output_type": "stream",
          "name": "stdout",
          "text": [
            "[' b ', ' c ', ' d ', ' e ']\n"
          ]
        }
      ]
    },
    {
      "cell_type": "markdown",
      "source": [
        "4.\n",
        "What is the output of this code in Python?\n",
        "\n",
        "L1 = [ ]\n",
        "\n",
        "L1.append ( [1, [2, 3], 4] )\n",
        "\n",
        "L1.extend ( [7, 8, 9] )\n",
        "\n",
        "print(L1[0][1][1] + L1[2] )\n",
        "\n",
        "(A) 3\n",
        "\n",
        "(B) 8\n",
        "\n",
        "(C) 11\n",
        "\n",
        "(D) 38\n",
        "\n",
        "(E) None of these"
      ],
      "metadata": {
        "id": "azaDYKsq4Wpr"
      }
    },
    {
      "cell_type": "markdown",
      "source": [
        "Answer: C"
      ],
      "metadata": {
        "id": "vHgC03jI4bAQ"
      }
    },
    {
      "cell_type": "code",
      "source": [
        "L1 = [ ]\n",
        "L1.append ( [1, [2, 3], 4] )\n",
        "L1.extend ( [7, 8, 9] )\n",
        "print(L1[0][1][1] + L1[2] )"
      ],
      "metadata": {
        "colab": {
          "base_uri": "https://localhost:8080/"
        },
        "id": "QEUuYG0C4hPM",
        "outputId": "0a18edc0-ae4a-4184-99df-7c7564c30914"
      },
      "execution_count": 6,
      "outputs": [
        {
          "output_type": "stream",
          "name": "stdout",
          "text": [
            "11\n"
          ]
        }
      ]
    },
    {
      "cell_type": "markdown",
      "source": [
        "5.\n",
        "What is the output of this code in python?\n",
        "\n",
        "  r = lambda q: q * 2\n",
        "\n",
        "  s = lambda q: q * 3\n",
        "\n",
        "  x = 2\n",
        "\n",
        "  x = r (x)\n",
        "\n",
        "  x = s (x)\n",
        "\n",
        "  x = r (x)\n",
        "\n",
        "  print (x)\n",
        "  \n",
        "(A) 2\n",
        "\n",
        "(B) 4\n",
        "\n",
        "(C) 6\n",
        "\n",
        "(D) 12\n",
        "\n",
        "(E) 24"
      ],
      "metadata": {
        "id": "MkrX9VKX4jga"
      }
    },
    {
      "cell_type": "markdown",
      "source": [
        "Answer: E"
      ],
      "metadata": {
        "id": "QCg0QXpV411A"
      }
    },
    {
      "cell_type": "code",
      "source": [
        "r = lambda q: q * 2\n",
        "s = lambda q: q * 3\n",
        "x = 2\n",
        "x = r (x)\n",
        "x = s (x)\n",
        "x = r (x)\n",
        "print (x)"
      ],
      "metadata": {
        "colab": {
          "base_uri": "https://localhost:8080/"
        },
        "id": "00xST-cF5Cg6",
        "outputId": "28d1affe-b450-43db-dbbf-e903167f49ca"
      },
      "execution_count": 8,
      "outputs": [
        {
          "output_type": "stream",
          "name": "stdout",
          "text": [
            "24\n"
          ]
        }
      ]
    },
    {
      "cell_type": "markdown",
      "source": [
        "6.\n",
        "Which of the following conditions correctly describes the output of this code in Python?\n",
        "\n",
        " first = [1 , 2 , 3 , 4 , 5]\n",
        "\n",
        " second = first\n",
        "\n",
        " second.append (6)\n",
        "\n",
        " print (first)\n",
        "\n",
        " print (second)\n",
        "\n",
        "(A) first=[1, 2, 3, 4, 5], second=[1, 2, 3, 4, 5, 6]\n",
        "\n",
        "(B) first=[1, 2, 3, 4, 5, 6], second=[1, 2, 3, 4, 5]\n",
        "\n",
        "(C) first=[1, 2, 3, 4, 5], second=[1, 2, 3, 4, 5]\n",
        "\n",
        "(D) first=[1, 2, 3, 4, 5, 6], second=[1, 2, 3, 4, 5, 6]\n",
        "\n",
        "(E) None of these"
      ],
      "metadata": {
        "id": "7YgiPuqT5JRJ"
      }
    },
    {
      "cell_type": "markdown",
      "source": [
        "Answer: D"
      ],
      "metadata": {
        "id": "0dHKtmwB5d2y"
      }
    },
    {
      "cell_type": "code",
      "source": [
        "first = [1 , 2 , 3 , 4 , 5]\n",
        "second = first\n",
        "second.append (6)\n",
        "print (first)\n",
        "print (second)"
      ],
      "metadata": {
        "colab": {
          "base_uri": "https://localhost:8080/"
        },
        "id": "CGeBVIlI5oVM",
        "outputId": "0f6e4dbc-c125-4732-980c-7c7ab2b4ea91"
      },
      "execution_count": 10,
      "outputs": [
        {
          "output_type": "stream",
          "name": "stdout",
          "text": [
            "[1, 2, 3, 4, 5, 6]\n",
            "[1, 2, 3, 4, 5, 6]\n"
          ]
        }
      ]
    },
    {
      "cell_type": "markdown",
      "source": [
        "7.If the function int volume (int x = 1, int y = 1, int z = 1);\n",
        "\n",
        "is called by the expression volume (7,8),\n",
        "\n",
        "how many default arguments are used?\n",
        "\n",
        "(A) None\n",
        "\n",
        "(B) One\n",
        "\n",
        "(C) Two\n",
        "\n",
        "(D) Three\n",
        "\n",
        "(E) It depends on the runtime environment."
      ],
      "metadata": {
        "id": "UOJRCl-z53Cm"
      }
    },
    {
      "cell_type": "markdown",
      "source": [
        "Answer: D"
      ],
      "metadata": {
        "id": "4iBtyd1u6Sxc"
      }
    },
    {
      "cell_type": "markdown",
      "source": [
        "Reading comprehension: What is the output of this code in Python?\n",
        "\n",
        "B.\n",
        "\n",
        "B1. What is the output of this code in Python? explain it."
      ],
      "metadata": {
        "id": "yhsSMAhq6e92"
      }
    },
    {
      "cell_type": "markdown",
      "source": [
        "This is formatted as code\n",
        "\n",
        "primes.py\n",
        "\n",
        "primes = [] # this will contain the primes at the end upto = 100 # the limit, inclusive for n in range(2, upto + 1): is_prime = True # flag, new at each iteration of outer for for divisor in range(2, n): if n % divisor == 0: is_prime = False break if is_prime: # check on flag primes.append(n) print(primes)"
      ],
      "metadata": {
        "id": "CnOqEen66gLm"
      }
    },
    {
      "cell_type": "markdown",
      "source": [
        "Answer:"
      ],
      "metadata": {
        "id": "Xq0A2gGX6wv3"
      }
    },
    {
      "cell_type": "code",
      "source": [
        "# primes.py\n",
        "primes = []  # this will contain the primes at the end\n",
        "upto = 100  # the limit, inclusive\n",
        "for n in range(2, upto + 1): \n",
        "    is_prime = True  # flag, new at each iteration of outer for\n",
        "    for divisor in range(2, n):\n",
        "        if n % divisor == 0:\n",
        "            is_prime = False\n",
        "            break\n",
        "    if is_prime:  # check on flag\n",
        "        primes.append(n) \n",
        "print(primes)"
      ],
      "metadata": {
        "id": "KxNLVz237EcE"
      },
      "execution_count": null,
      "outputs": []
    },
    {
      "cell_type": "markdown",
      "source": [
        "Explanation:"
      ],
      "metadata": {
        "id": "tdE0oYKf7Ije"
      }
    },
    {
      "cell_type": "code",
      "source": [
        "# primes.py\n",
        "    primes = []  # primes will contaian in the end\n",
        "    upto = 100  # the inclusive limit \n",
        "    for n in range(2, upto + 1): # repeat an action a specific number of times  upto + 1 \n",
        "        is_prime = True  # if factor is found, set flag to True\n",
        "        for divisor in range(2, n): # repeat an action a specific number of times\n",
        "            if n % divisor == 0: #  zero values are false\n",
        "                is_prime = False  # if factor is found, set flag to False\n",
        "                break # break out of loop\n",
        "        if is_prime:  # check on flag\n",
        "            primes.append(n) # is_prime is true then it will append in the list\n",
        "    print(primes) # print prime numbers"
      ],
      "metadata": {
        "id": "AfQjqhsK7P7K"
      },
      "execution_count": null,
      "outputs": []
    },
    {
      "cell_type": "markdown",
      "source": [
        "B2. What is the output of this code in Python? Explain it."
      ],
      "metadata": {
        "id": "w33fRNyl7Ugw"
      }
    },
    {
      "cell_type": "markdown",
      "source": [
        "This is formatted as code"
      ],
      "metadata": {
        "id": "W5__3dxh7VVq"
      }
    },
    {
      "cell_type": "markdown",
      "source": [
        "primes.else.py"
      ],
      "metadata": {
        "id": "XoibLJp77Y6F"
      }
    },
    {
      "cell_type": "markdown",
      "source": [
        "primes = [] upto = 100 for n in range(2, upto + 1): for divisor in range(2, n): if n % divisor == 0: break else: primes.append(n) print(primes)"
      ],
      "metadata": {
        "id": "L1-4n_fA7b6c"
      }
    },
    {
      "cell_type": "markdown",
      "source": [
        "Answer:"
      ],
      "metadata": {
        "id": "m40pd6Nf7fi8"
      }
    },
    {
      "cell_type": "code",
      "source": [
        "# primes.else.py\n",
        "primes = []\n",
        "upto = 100\n",
        "for n in range(2, upto + 1):\n",
        "    for divisor in range(2, n):\n",
        "        if n % divisor == 0:\n",
        "            break\n",
        "    else:\n",
        "        primes.append(n)\n",
        "print(primes)"
      ],
      "metadata": {
        "colab": {
          "base_uri": "https://localhost:8080/"
        },
        "id": "GyxpU2KY7j43",
        "outputId": "a9a6f9ea-fc18-4c17-a9b5-ffa23f3bb446"
      },
      "execution_count": 11,
      "outputs": [
        {
          "output_type": "stream",
          "name": "stdout",
          "text": [
            "[2, 3, 5, 7, 11, 13, 17, 19, 23, 29, 31, 37, 41, 43, 47, 53, 59, 61, 67, 71, 73, 79, 83, 89, 97]\n"
          ]
        }
      ]
    },
    {
      "cell_type": "markdown",
      "source": [
        "Explanation:"
      ],
      "metadata": {
        "id": "C5t1rwVv7rku"
      }
    },
    {
      "cell_type": "code",
      "source": [
        "# primes.else.py\n",
        "primes = [] # primes will contaian in the end\n",
        "upto = 100 # the inclusive limit\n",
        "for n in range(2, upto + 1): # repeat an action  a specific number of times  upto + 1 \n",
        "    for divisor in range(2, n): # repeat an action a specific number of times\n",
        "        if n % divisor == 0: #  zero values are false\n",
        "            break# break out of loop\n",
        "    else: # flag is true \n",
        "        primes.append(n)  # is_prime is true then it will append in the list\n",
        "print(primes) # print prime numbers"
      ],
      "metadata": {
        "id": "USi20g_X7sVG"
      },
      "execution_count": null,
      "outputs": []
    },
    {
      "cell_type": "markdown",
      "source": [
        "B3. What is the output of this code in Python? Explain it."
      ],
      "metadata": {
        "id": "bDziCfnd74B2"
      }
    },
    {
      "cell_type": "code",
      "source": [
        "# This is formatted as \n",
        "\n",
        "cubes = [x**3 for x in range(1,6)]\n",
        "print(cubes"
      ],
      "metadata": {
        "id": "j9sQVjnY8Kjo"
      },
      "execution_count": null,
      "outputs": []
    },
    {
      "cell_type": "markdown",
      "source": [
        "Answer:"
      ],
      "metadata": {
        "id": "wbwQtkeT8Pr_"
      }
    },
    {
      "cell_type": "code",
      "source": [
        "cubes = [x**3 for x in range(1,6)]\n",
        "print(cubes)"
      ],
      "metadata": {
        "colab": {
          "base_uri": "https://localhost:8080/"
        },
        "id": "Q5Uuf8m18S8h",
        "outputId": "c63ee7a8-13d5-4158-ca34-11690d6e1f05"
      },
      "execution_count": 13,
      "outputs": [
        {
          "output_type": "stream",
          "name": "stdout",
          "text": [
            "[1, 8, 27, 64, 125]\n"
          ]
        }
      ]
    },
    {
      "cell_type": "markdown",
      "source": [
        "Explanation:"
      ],
      "metadata": {
        "id": "OfO0kUsB8kgm"
      }
    },
    {
      "cell_type": "code",
      "source": [
        "range(1,6) == > 1,2,3,4,5\n",
        "\n",
        "[x**3 for x in range(1,6)] ==> [13 , 23 , ...., 5**3]\n",
        "\n",
        "2**3 = 8"
      ],
      "metadata": {
        "id": "8ReBZWvS8mdp"
      },
      "execution_count": null,
      "outputs": []
    },
    {
      "cell_type": "markdown",
      "source": [
        "Programming Python"
      ],
      "metadata": {
        "id": "7msb6ZqQ8sRQ"
      }
    },
    {
      "cell_type": "code",
      "source": [
        "The Fibonacci numbers may be defined by the recurrence relation\n",
        "\n",
        "F_{0}=0, F_{1}=1\n",
        "\n",
        "and\n",
        "\n",
        "F_{n} = F_{n-1} + F_{n-2} for n > 1.\n",
        "\n",
        "0,1,1,2,3,5,8,......\n",
        "\n",
        "Under some older definitions, the value F_{0}=0 is omitted,\n",
        "\n",
        "so that the sequence starts with F_{1}=F_{2}=1 and\n",
        "\n",
        "the recurrence F_{n}=F_{n-1}+F_{n-2} is valid for n > 2\n",
        "\n",
        "(1)Write a Python function/Program to Find Fibonacci Numbers using Recursion\n",
        "\n",
        "(2)use iterative Approach To Find the nth Term Of Fibonacci Sequence(You need to write a function using loop)"
      ],
      "metadata": {
        "id": "D8_wEpi-8wmV"
      },
      "execution_count": null,
      "outputs": []
    },
    {
      "cell_type": "code",
      "source": [
        "# Python program to display the Fibonacci sequence\n",
        "\n",
        "def recur_fibo(n):\n",
        "   if n <= 1:\n",
        "       return n\n",
        "   else:\n",
        "       return(recur_fibo(n-1) + recur_fibo(n-2))\n",
        "\n",
        "nterms = 18\n",
        "\n",
        "# check if the number of terms is valid\n",
        "if nterms <= 0:\n",
        "   print(\"Plese enter a positive integer\")\n",
        "else:\n",
        "   print(\"Fibonacci sequence:\")\n",
        "   for i in range(nterms):\n",
        "       print(recur_fibo(i))"
      ],
      "metadata": {
        "colab": {
          "base_uri": "https://localhost:8080/"
        },
        "id": "yFefb-B188iW",
        "outputId": "e84232ae-7001-4e23-c28b-267d19527626"
      },
      "execution_count": 14,
      "outputs": [
        {
          "output_type": "stream",
          "name": "stdout",
          "text": [
            "Fibonacci sequence:\n",
            "0\n",
            "1\n",
            "1\n",
            "2\n",
            "3\n",
            "5\n",
            "8\n",
            "13\n",
            "21\n",
            "34\n",
            "55\n",
            "89\n",
            "144\n",
            "233\n",
            "377\n",
            "610\n",
            "987\n",
            "1597\n"
          ]
        }
      ]
    },
    {
      "cell_type": "markdown",
      "source": [
        "1."
      ],
      "metadata": {
        "id": "ujHBWHqh9WmJ"
      }
    },
    {
      "cell_type": "code",
      "source": [
        "def recur_fibo(n):  \n",
        "   if n <= 1:  \n",
        "       return n  \n",
        "   else:  \n",
        "       return(recur_fibo(n-1) + recur_fibo(n-2))  \n",
        " \n",
        "nterms = 24\n",
        " \n",
        "if nterms <= 0: \n",
        "   print(\"Plese enter a positive integer\")  \n",
        "else:  \n",
        "   print(\"Fibonacci sequence:\")  \n",
        "   for i in range(nterms):  \n",
        "       print(recur_fibo(i))"
      ],
      "metadata": {
        "colab": {
          "base_uri": "https://localhost:8080/"
        },
        "id": "ahf-rMKC9jNn",
        "outputId": "16975aef-2144-42b4-edac-c8ca3d293c33"
      },
      "execution_count": 15,
      "outputs": [
        {
          "output_type": "stream",
          "name": "stdout",
          "text": [
            "Fibonacci sequence:\n",
            "0\n",
            "1\n",
            "1\n",
            "2\n",
            "3\n",
            "5\n",
            "8\n",
            "13\n",
            "21\n",
            "34\n",
            "55\n",
            "89\n",
            "144\n",
            "233\n",
            "377\n",
            "610\n",
            "987\n",
            "1597\n",
            "2584\n",
            "4181\n",
            "6765\n",
            "10946\n",
            "17711\n",
            "28657\n"
          ]
        }
      ]
    },
    {
      "cell_type": "markdown",
      "source": [
        "2."
      ],
      "metadata": {
        "id": "K7hpsNiM9mjm"
      }
    },
    {
      "cell_type": "code",
      "source": [
        "def fibonacci(n):\n",
        "    a,b = 0,1\n",
        "    for i in range(n):\n",
        "        a,b = b,a+b\n",
        "    return a\n",
        "\n",
        "print(fibonacci(8))"
      ],
      "metadata": {
        "colab": {
          "base_uri": "https://localhost:8080/"
        },
        "id": "gVQCuZXl9n7Z",
        "outputId": "75d9a2dc-fef1-4809-feb4-fd610b192207"
      },
      "execution_count": 16,
      "outputs": [
        {
          "output_type": "stream",
          "name": "stdout",
          "text": [
            "21\n"
          ]
        }
      ]
    }
  ]
}